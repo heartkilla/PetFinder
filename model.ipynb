{
 "cells": [
  {
   "cell_type": "markdown",
   "metadata": {},
   "source": [
    "# PetFinder: Modeling"
   ]
  },
  {
   "cell_type": "code",
   "execution_count": 75,
   "metadata": {},
   "outputs": [],
   "source": [
    "import numpy as np\n",
    "import pandas as pd\n",
    "\n",
    "from matplotlib import pyplot as plt\n",
    "%matplotlib inline\n",
    "import seaborn as sns\n",
    "sns.set()\n",
    "\n",
    "import lightgbm as lgb\n",
    "\n",
    "from sklearn.model_selection import StratifiedKFold\n",
    "from sklearn.metrics import mean_squared_error, cohen_kappa_score"
   ]
  },
  {
   "cell_type": "markdown",
   "metadata": {},
   "source": [
    "## 1. Data cleaning"
   ]
  },
  {
   "cell_type": "code",
   "execution_count": 51,
   "metadata": {},
   "outputs": [],
   "source": [
    "train_df = pd.read_csv('./data/train/train.csv', dtype={'PhotoAmt': np.int64})\n",
    "test_df = pd.read_csv('./data/test/test.csv', dtype={'PhotoAmt': np.int64})\n",
    "pet_ids_to_submit = test_df['PetID'].values"
   ]
  },
  {
   "cell_type": "code",
   "execution_count": 52,
   "metadata": {},
   "outputs": [],
   "source": [
    "# Correct possible data errors\n",
    "\n",
    "# Replace Breed1 with Breed2\n",
    "train_df['Breed1'].replace(0, train_df['Breed2'], inplace=True)\n",
    "\n",
    "# Replace Breed1 with 0\n",
    "ids = ['1bc0f89d8', '15a206d0d', 'f8654865f', '36b20cfb5',\n",
    "       '699a81c51', '85ec1aac0','6a72cfda7'] \n",
    "train_df.loc[train_df['PetID'].isin(ids), 'Breed1'] = 0\n",
    "ids = ['199ae3a3d', '66b38c4a7']\n",
    "test_df.loc[test_df['PetID'].isin(ids), 'Breed1'] = 0\n",
    "\n",
    "# Replace Breed2 with 0\n",
    "ids = ['f8654865f', '699a81c51', '6a72cfda7']\n",
    "train_df.loc[train_df['PetID'].isin(ids), 'Breed2'] = 0\n",
    "\n",
    "# Change Type to 1\n",
    "train_df.loc[train_df['PetID'] == '6c399cb06', 'Type'] = 1"
   ]
  },
  {
   "cell_type": "markdown",
   "metadata": {},
   "source": [
    "## 2. Feature engineering"
   ]
  },
  {
   "cell_type": "code",
   "execution_count": 53,
   "metadata": {},
   "outputs": [],
   "source": [
    "# New features\n",
    "\n",
    "# Add name length\n",
    "train_df['name_len'] = train_df['Name'].map(len, na_action='ignore')\n",
    "test_df['name_len'] = test_df['Name'].map(len, na_action='ignore')\n",
    "\n",
    "# Add total number of pets the rescuer saved\n",
    "train_df['rescuer_count'] = train_df['RescuerID'].replace(train_df.groupby(['RescuerID']).size())\n",
    "test_df['rescuer_count'] = test_df['RescuerID'].replace(test_df.groupby(['RescuerID']).size())\n",
    "\n",
    "# Add description length\n",
    "train_df['desc_len'] = train_df['Description'].map(len, na_action='ignore')\n",
    "test_df['desc_len'] = test_df['Description'].map(len, na_action='ignore')"
   ]
  },
  {
   "cell_type": "markdown",
   "metadata": {},
   "source": [
    "## 3. Modeling"
   ]
  },
  {
   "cell_type": "markdown",
   "metadata": {},
   "source": [
    "### 3.1 Metrics"
   ]
  },
  {
   "cell_type": "code",
   "execution_count": 54,
   "metadata": {},
   "outputs": [],
   "source": [
    "# RMSE as objective\n",
    "def rmse(y_true, y_pred):\n",
    "    return np.sqrt(mean_squared_error(y_true, y_pred))\n",
    "\n",
    "# Quadratic weighted kappa. This is the evaluation metric.\n",
    "def qwk(y_true, y_pred):\n",
    "    return cohen_kappa_score(y_true, y_pred, weights='quadratic')"
   ]
  },
  {
   "cell_type": "markdown",
   "metadata": {},
   "source": [
    "### 3.2 Thresholds selection"
   ]
  },
  {
   "cell_type": "code",
   "execution_count": 71,
   "metadata": {},
   "outputs": [],
   "source": [
    "def get_thresholds_from_dist(y_true, y_pred):\n",
    "    \"\"\"Calculates thresholds for raw predictions\n",
    "    so as to follow the true distribution.\n",
    "    \"\"\"\n",
    "    idxs = np.cumsum(np.bincount(y_train))[:-1]\n",
    "    idxs = (idxs * y_pred.size / y_true.size).astype(int)\n",
    "    return np.sort(y_pred)[idxs]\n",
    "\n",
    "def allocate_to_rate(y_pred, thresholds):\n",
    "    \"\"\"Allocates raw predictions to adoption rates.\"\"\"\n",
    "    rates = np.zeros(y_pred.size, dtype=int)\n",
    "    for i in range(4):\n",
    "        rates[y_pred >= thresholds[i]] = i + 1\n",
    "    return rates"
   ]
  },
  {
   "cell_type": "markdown",
   "metadata": {},
   "source": [
    "### 3.3 Training"
   ]
  },
  {
   "cell_type": "code",
   "execution_count": 56,
   "metadata": {},
   "outputs": [],
   "source": [
    "# Drop these for now\n",
    "train_df.drop(columns=['Name', 'RescuerID', 'Description', 'PetID'], inplace=True)\n",
    "test_df.drop(columns=['Name', 'RescuerID', 'Description', 'PetID'], inplace=True)"
   ]
  },
  {
   "cell_type": "code",
   "execution_count": 57,
   "metadata": {},
   "outputs": [],
   "source": [
    "# Define categorical and numerical features\n",
    "cat_feats = ['Type', 'Breed1', 'Breed2', 'Gender',\n",
    "             'Color1', 'Color2', 'Color3', 'Vaccinated',\n",
    "             'Dewormed', 'Sterilized', 'State']\n",
    "num_feats = ['MaturitySize', 'FurLength', 'Health', 'Quantity',\n",
    "             'Fee', 'VideoAmt', 'PhotoAmt', 'name_len',\n",
    "             'rescuer_count']"
   ]
  },
  {
   "cell_type": "code",
   "execution_count": 58,
   "metadata": {},
   "outputs": [],
   "source": [
    "# Data matrices\n",
    "X_train = train_df.drop(columns=['AdoptionSpeed'])\n",
    "y_train = train_df['AdoptionSpeed'].values\n",
    "X_test = test_df"
   ]
  },
  {
   "cell_type": "code",
   "execution_count": 84,
   "metadata": {},
   "outputs": [
    {
     "name": "stderr",
     "output_type": "stream",
     "text": [
      "/anaconda3/lib/python3.6/site-packages/lightgbm/basic.py:1186: UserWarning: Using categorical_feature in Dataset.\n",
      "  warnings.warn('Using categorical_feature in Dataset.')\n",
      "/anaconda3/lib/python3.6/site-packages/lightgbm/basic.py:752: UserWarning: categorical_feature in param dict is overridden.\n",
      "  warnings.warn('categorical_feature in param dict is overridden.')\n"
     ]
    },
    {
     "name": "stdout",
     "output_type": "stream",
     "text": [
      "Training until validation scores don't improve for 500 rounds.\n",
      "[100]\ttraining's rmse: 0.948167\tvalid_1's rmse: 1.04443\n",
      "[200]\ttraining's rmse: 0.894015\tvalid_1's rmse: 1.04664\n",
      "[300]\ttraining's rmse: 0.852969\tvalid_1's rmse: 1.05001\n",
      "[400]\ttraining's rmse: 0.821881\tvalid_1's rmse: 1.05272\n",
      "[500]\ttraining's rmse: 0.793416\tvalid_1's rmse: 1.05651\n",
      "Early stopping, best iteration is:\n",
      "[77]\ttraining's rmse: 0.963024\tvalid_1's rmse: 1.0435\n",
      "QWK: 0.44288978871827767\n",
      "Training until validation scores don't improve for 500 rounds.\n",
      "[100]\ttraining's rmse: 0.949738\tvalid_1's rmse: 1.05763\n",
      "[200]\ttraining's rmse: 0.894111\tvalid_1's rmse: 1.05408\n",
      "[300]\ttraining's rmse: 0.854844\tvalid_1's rmse: 1.05605\n",
      "[400]\ttraining's rmse: 0.822923\tvalid_1's rmse: 1.05783\n",
      "[500]\ttraining's rmse: 0.793921\tvalid_1's rmse: 1.06081\n",
      "[600]\ttraining's rmse: 0.763902\tvalid_1's rmse: 1.06291\n",
      "[700]\ttraining's rmse: 0.741436\tvalid_1's rmse: 1.06353\n",
      "Early stopping, best iteration is:\n",
      "[205]\ttraining's rmse: 0.891183\tvalid_1's rmse: 1.05379\n",
      "QWK: 0.43639498055566694\n",
      "Training until validation scores don't improve for 500 rounds.\n",
      "[100]\ttraining's rmse: 0.952293\tvalid_1's rmse: 1.05511\n",
      "[200]\ttraining's rmse: 0.894109\tvalid_1's rmse: 1.05345\n",
      "[300]\ttraining's rmse: 0.857475\tvalid_1's rmse: 1.05613\n",
      "[400]\ttraining's rmse: 0.824486\tvalid_1's rmse: 1.05981\n",
      "[500]\ttraining's rmse: 0.797942\tvalid_1's rmse: 1.061\n",
      "[600]\ttraining's rmse: 0.771983\tvalid_1's rmse: 1.06296\n",
      "Early stopping, best iteration is:\n",
      "[125]\ttraining's rmse: 0.933766\tvalid_1's rmse: 1.0527\n",
      "QWK: 0.4212129743458548\n",
      "Training until validation scores don't improve for 500 rounds.\n",
      "[100]\ttraining's rmse: 0.95034\tvalid_1's rmse: 1.04666\n",
      "[200]\ttraining's rmse: 0.895735\tvalid_1's rmse: 1.0446\n",
      "[300]\ttraining's rmse: 0.848894\tvalid_1's rmse: 1.04701\n",
      "[400]\ttraining's rmse: 0.812655\tvalid_1's rmse: 1.0513\n",
      "[500]\ttraining's rmse: 0.78483\tvalid_1's rmse: 1.05301\n",
      "[600]\ttraining's rmse: 0.759873\tvalid_1's rmse: 1.05734\n",
      "Early stopping, best iteration is:\n",
      "[173]\ttraining's rmse: 0.91027\tvalid_1's rmse: 1.04393\n",
      "QWK: 0.4366248194225618\n",
      "Training until validation scores don't improve for 500 rounds.\n",
      "[100]\ttraining's rmse: 0.949737\tvalid_1's rmse: 1.05751\n",
      "[200]\ttraining's rmse: 0.897469\tvalid_1's rmse: 1.05563\n",
      "[300]\ttraining's rmse: 0.860784\tvalid_1's rmse: 1.05817\n",
      "[400]\ttraining's rmse: 0.8346\tvalid_1's rmse: 1.05956\n",
      "[500]\ttraining's rmse: 0.802956\tvalid_1's rmse: 1.06291\n",
      "[600]\ttraining's rmse: 0.776099\tvalid_1's rmse: 1.06544\n",
      "Early stopping, best iteration is:\n",
      "[178]\ttraining's rmse: 0.90683\tvalid_1's rmse: 1.05459\n",
      "QWK: 0.42706303925345823\n"
     ]
    }
   ],
   "source": [
    "# Training with 5-fold CV\n",
    "# For each fold we make a prediction on the whole test set\n",
    "# and then average them.\n",
    "\n",
    "params = {'application': 'regression',\n",
    "          'boosting': 'gbdt',\n",
    "          'metric': 'rmse',\n",
    "          'num_leaves': 70,\n",
    "          'max_depth': 9,\n",
    "          'learning_rate': 0.1,\n",
    "          'bagging_fraction': 0.85,\n",
    "          'feature_fraction': 0.8,\n",
    "          'min_split_gain': 0.02,\n",
    "          'min_child_samples': 150,\n",
    "          'min_child_weight': 0.02,\n",
    "          'lambda_l2': 0.0475,\n",
    "          'verbosity': -1,\n",
    "          'data_random_seed': 17}\n",
    "\n",
    "kfold = StratifiedKFold(n_splits=5, random_state=1337)\n",
    "\n",
    "test_preds = []\n",
    "importances = []\n",
    "rmses = []\n",
    "qwks = []\n",
    "for train_index, valid_index in kfold.split(X_train, y_train):\n",
    "    \n",
    "    X_tr = X_train.iloc[train_index, :]\n",
    "    y_tr = y_train[train_index]\n",
    "    X_val = X_train.iloc[valid_index, :]\n",
    "    y_val = y_train[valid_index]\n",
    "    \n",
    "    d_train = lgb.Dataset(X_tr, label=y_tr, categorical_feature=cat_feats)\n",
    "    d_valid = lgb.Dataset(X_val, label=y_val, categorical_feature=cat_feats)\n",
    "    watchlist = [d_train, d_valid]\n",
    "    \n",
    "    model = lgb.train(params,\n",
    "                      train_set=d_train,\n",
    "                      num_boost_round=10000,\n",
    "                      valid_sets=watchlist,\n",
    "                      verbose_eval=100,\n",
    "                      early_stopping_rounds=500)\n",
    "    \n",
    "    val_pred = model.predict(X_val, num_iteration=model.best_iteration)\n",
    "    thresholds = get_thresholds_from_dist(y_train, val_pred)\n",
    "    val_pred = allocate_to_rate(val_pred, thresholds)\n",
    "    qwk_val = qwk(y_val, val_pred)\n",
    "    qwks.append(qwk_val)\n",
    "    rmses.append(model.best_score['valid_1']['rmse'])\n",
    "    print('QWK:', qwk_val)\n",
    "    \n",
    "    test_pred = model.predict(X_test, num_iteration=model.best_iteration)\n",
    "    test_preds.append(test_pred)\n",
    "    \n",
    "    importances.append(model.feature_importance())"
   ]
  },
  {
   "cell_type": "code",
   "execution_count": 85,
   "metadata": {},
   "outputs": [
    {
     "name": "stdout",
     "output_type": "stream",
     "text": [
      "CV RMSE: 1.0497037682163428\n",
      "CV QWK: 0.43283712045916395\n"
     ]
    }
   ],
   "source": [
    "# Average test predictions and allocate to adoption rates\n",
    "preds = np.mean(test_preds, axis=0)\n",
    "importances = np.mean(importances, axis=0)\n",
    "thresholds = get_thresholds_from_dist(y_train, preds)\n",
    "preds = allocate_to_rate(preds, thresholds)\n",
    "\n",
    "print('CV RMSE:', np.mean(rmses))\n",
    "print('CV QWK:', np.mean(qwks))"
   ]
  },
  {
   "cell_type": "markdown",
   "metadata": {},
   "source": [
    "### 3.4 Feature importances"
   ]
  },
  {
   "cell_type": "code",
   "execution_count": 79,
   "metadata": {},
   "outputs": [
    {
     "data": {
      "image/png": "[encoded data removed]",
      "text/plain": [
       "<Figure size 720x576 with 1 Axes>"
      ]
     },
     "metadata": {},
     "output_type": "display_data"
    }
   ],
   "source": [
    "def plot_importances(importances):\n",
    "    series = pd.Series(data=importances, index=X_train.columns)\n",
    "    series = series.sort_values(ascending=False)\n",
    "    plt.figure(figsize=(10, 8))\n",
    "    sns.barplot(x=series.values, y=series.index)\n",
    "    plt.title('Feature importances (split)', fontsize=15)\n",
    "    plt.show()\n",
    "\n",
    "plot_importances(importances)"
   ]
  },
  {
   "cell_type": "markdown",
   "metadata": {},
   "source": [
    "## 4. Submission"
   ]
  },
  {
   "cell_type": "code",
   "execution_count": 138,
   "metadata": {},
   "outputs": [],
   "source": [
    "submission = pd.DataFrame({'PetID': pet_ids_to_submit, 'AdoptionSpeed': preds.astype(np.int32)})\n",
    "submission.head()\n",
    "submission.to_csv('submission.csv', index=False)"
   ]
  }
 ],
 "metadata": {
  "kernelspec": {
   "display_name": "Python 3",
   "language": "python",
   "name": "python3"
  },
  "language_info": {
   "codemirror_mode": {
    "name": "ipython",
    "version": 3
   },
   "file_extension": ".py",
   "mimetype": "text/x-python",
   "name": "python",
   "nbconvert_exporter": "python",
   "pygments_lexer": "ipython3",
   "version": "3.6.5"
  }
 },
 "nbformat": 4,
 "nbformat_minor": 2
}
