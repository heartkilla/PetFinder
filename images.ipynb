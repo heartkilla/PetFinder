{
 "cells": [
  {
   "cell_type": "code",
   "execution_count": 16,
   "metadata": {},
   "outputs": [],
   "source": [
    "import numpy as np\n",
    "import pandas as pd\n",
    "import json\n",
    "import os\n",
    "from parse import parse"
   ]
  },
  {
   "cell_type": "code",
   "execution_count": 24,
   "metadata": {},
   "outputs": [
    {
     "data": {
      "text/plain": [
       "(14993, 14652, 341)"
      ]
     },
     "execution_count": 24,
     "metadata": {},
     "output_type": "execute_result"
    }
   ],
   "source": [
    "# Find out all pets that have an image\n",
    "\n",
    "# Train dataset\n",
    "train_df = pd.read_csv('data/train/train.csv')\n",
    "train_pet_ids = train_df['PetID'].tolist()\n",
    "train_pet_ids = set(train_pet_ids)\n",
    "\n",
    "train_imgs_path = 'data/train_images'\n",
    "train_imgs_filenames = os.listdir(train_imgs_path)\n",
    "img_filename_format = '{}-{}.jpg'\n",
    "train_img_ids = [parse(img_filename_format, img_f)[0] for img_f in train_imgs_filenames]\n",
    "# Pets can have several images\n",
    "train_img_ids = set(train_img_ids)\n",
    "train_ids_no_img = train_pet_ids - train_img_ids\n",
    "\n",
    "len(train_pet_ids), len(train_img_ids), len(train_ids_no_img)"
   ]
  },
  {
   "cell_type": "code",
   "execution_count": 25,
   "metadata": {},
   "outputs": [
    {
     "data": {
      "text/plain": [
       "(3948, 3821, 127)"
      ]
     },
     "execution_count": 25,
     "metadata": {},
     "output_type": "execute_result"
    }
   ],
   "source": [
    "# Test dataset\n",
    "test_df = pd.read_csv('data/test/test.csv')\n",
    "test_pet_ids = test_df['PetID'].tolist()\n",
    "test_pet_ids = set(test_pet_ids)\n",
    "\n",
    "test_imgs_path = 'data/test_images'\n",
    "test_imgs_filenames = os.listdir(test_imgs_path)\n",
    "test_img_ids = [parse(img_filename_format, img_f)[0] for img_f in test_imgs_filenames]\n",
    "\n",
    "test_img_ids = set(test_img_ids)\n",
    "test_ids_no_img = test_pet_ids - test_img_ids\n",
    "\n",
    "len(test_pet_ids), len(test_img_ids), len(test_ids_no_img)"
   ]
  },
  {
   "cell_type": "code",
   "execution_count": null,
   "metadata": {},
   "outputs": [],
   "source": []
  }
 ],
 "metadata": {
  "kernelspec": {
   "display_name": "Python 3",
   "language": "python",
   "name": "python3"
  },
  "language_info": {
   "codemirror_mode": {
    "name": "ipython",
    "version": 3
   },
   "file_extension": ".py",
   "mimetype": "text/x-python",
   "name": "python",
   "nbconvert_exporter": "python",
   "pygments_lexer": "ipython3",
   "version": "3.6.4"
  }
 },
 "nbformat": 4,
 "nbformat_minor": 2
}
